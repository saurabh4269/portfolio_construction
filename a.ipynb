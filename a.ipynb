{
 "cells": [
  {
   "cell_type": "code",
   "execution_count": null,
   "metadata": {},
   "outputs": [],
   "source": [
    "import numpy as np\n",
    "import pandas as pd\n",
    "import matplotlib.pyplot as plt"
   ]
  },
  {
   "cell_type": "code",
   "execution_count": null,
   "metadata": {},
   "outputs": [],
   "source": [
    "import yfinance as yf\n",
    "import pandas as pd\n",
    "from pandas_datareader import wb\n",
    "\n",
    "# Define functions\n",
    "def download_sector_indices(indices, start_date, end_date):\n",
    "    \"\"\"\n",
    "    Download historical data for Nifty sector-based indices.\n",
    "    \"\"\"\n",
    "    data = {}\n",
    "    for index in indices:\n",
    "        data[index] = yf.download(index, start=start_date, end=end_date)\n",
    "    sector_data = {index: data[index]['Close'] for index in data}\n",
    "    df_sector_data = pd.DataFrame(sector_data)\n",
    "    return df_sector_data\n",
    "\n",
    "def download_macro_data(indicators, country, start_year, end_year):\n",
    "    \"\"\"\n",
    "    Download macroeconomic data from World Bank.\n",
    "    \"\"\"\n",
    "    macro_data = wb.download(indicator=list(indicators.keys()), country=country, start=start_year, end=end_year)\n",
    "    macro_data = macro_data.rename(columns=indicators)\n",
    "    macro_data = macro_data.reset_index()\n",
    "    return macro_data\n",
    "\n",
    "def merge_data(sector_data, macro_data):\n",
    "    \"\"\"\n",
    "    Merge sector indices data with macroeconomic data.\n",
    "    \"\"\"\n",
    "    macro_data['year'] = pd.to_datetime(macro_data['year'])\n",
    "    macro_data.set_index('year', inplace=True)\n",
    "    macro_data = macro_data.resample('A').last()\n",
    "    combined_data = sector_data.join(macro_data, how='outer')\n",
    "    return combined_data\n",
    "\n",
    "# Example usage\n",
    "indices = ['^CNXAUTO', '^CNXBANK', '^CNXIT', '^CNXPHARMA', '^CNXREALTY']\n",
    "start_date = '2014-01-01'\n",
    "end_date = '2024-01-01'\n",
    "df_sector_data = download_sector_indices(indices, start_date, end_date)\n",
    "\n",
    "indicators = {'NY.GDP.MKTP.CD': 'GDP', 'FP.CPI.TOTL': 'CPI'}\n",
    "country = 'IN'\n",
    "start_year = 2014\n",
    "end_year = 2023\n",
    "df_macro_data = download_macro_data(indicators, country, start_year, end_year)\n",
    "\n",
    "combined_data = merge_data(df_sector_data, df_macro_data)\n",
    "print(combined_data.head())\n"
   ]
  },
  {
   "cell_type": "code",
   "execution_count": null,
   "metadata": {},
   "outputs": [],
   "source": [
    "from pandas_datareader import wb\n",
    "\n",
    "# List of macroeconomic indicators\n",
    "indicators = {'NY.GDP.MKTP.CD': 'GDP', 'FP.CPI.TOTL': 'CPI'}\n",
    "\n",
    "# Download data\n",
    "macro_data = wb.download(indicator=list(indicators.keys()), country='IN', start=2014, end=2023)\n",
    "macro_data = macro_data.rename(columns=indicators)\n",
    "print(macro_data.head())\n"
   ]
  },
  {
   "cell_type": "code",
   "execution_count": null,
   "metadata": {},
   "outputs": [],
   "source": [
    "from statsmodels.tsa.arima.model import ARIMA\n",
    "\n",
    "# Example for one sector index\n",
    "sector_index = df_sector_data['^CNXBANK']\n",
    "train_data = sector_index[:'2021']\n",
    "test_data = sector_index['2022':]\n",
    "\n",
    "# Fit ARIMA model\n",
    "model = ARIMA(train_data, order=(5, 1, 0))\n",
    "model_fit = model.fit()\n",
    "predictions = model_fit.forecast(steps=len(test_data))\n",
    "\n",
    "# Compare predictions with actual values\n",
    "print(predictions)\n"
   ]
  },
  {
   "cell_type": "code",
   "execution_count": null,
   "metadata": {},
   "outputs": [],
   "source": []
  }
 ],
 "metadata": {
  "kernelspec": {
   "display_name": "Python 3",
   "language": "python",
   "name": "python3"
  },
  "language_info": {
   "codemirror_mode": {
    "name": "ipython",
    "version": 3
   },
   "file_extension": ".py",
   "mimetype": "text/x-python",
   "name": "python",
   "nbconvert_exporter": "python",
   "pygments_lexer": "ipython3",
   "version": "3.12.3"
  }
 },
 "nbformat": 4,
 "nbformat_minor": 2
}
